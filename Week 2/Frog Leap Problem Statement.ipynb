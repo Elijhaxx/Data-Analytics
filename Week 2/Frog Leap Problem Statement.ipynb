{
  "nbformat": 4,
  "nbformat_minor": 0,
  "metadata": {
    "colab": {
      "provenance": [],
      "include_colab_link": true
    },
    "kernelspec": {
      "name": "python3",
      "display_name": "Python 3"
    },
    "language_info": {
      "name": "python"
    }
  },
  "cells": [
    {
      "cell_type": "markdown",
      "metadata": {
        "id": "view-in-github",
        "colab_type": "text"
      },
      "source": [
        "<a href=\"https://colab.research.google.com/github/Elijhaxx/Data-Analytics-Internship/blob/main/Frog%20Leap%20Problem%20Statement.ipynb\" target=\"_parent\"><img src=\"https://colab.research.google.com/assets/colab-badge.svg\" alt=\"Open In Colab\"/></a>"
      ]
    },
    {
      "cell_type": "markdown",
      "source": [
        "# Problem statement\n",
        "\n",
        "Create famous 'Frog leap' puzzle game. Try completing the game before starting to get an idea about its working.\n",
        "[Demonstration](https://www.neok12.com/games/leap-froggies/leap-froggies.htm).\n",
        "\n",
        "\n",
        "### Rules ###\n",
        "1. The left set of frogs can only move right, the right set of frogs can only move left.\n",
        "2. Frogs can move forward one space, or move two spaces by jumping over another frog from opposite side.\n",
        "3. The puzzle is solved when the two sets of frogs have switched positions.\n",
        "\n",
        "\n",
        "## Steps to solve the problem:\n",
        "### Step1:-\n",
        "- Display green and brown frogs on the left and right sides initially.\n",
        "\n",
        "Initial Display :-  \n",
        "```\n",
        "[ 0 ,  1 ,  2 ,  3 ,  4 ,  5 ,  6 ]\n",
        "['G', 'G', 'G', '-', 'B', 'B', 'B']\n",
        "```\n",
        "<br>\n",
        "Here 'G' represents Green frogs on the left side and 'B' represents brown frogs on the right side. The '-' defines the position of empty leaf.\n",
        "(You can change display according to your imagination or convinience)\n",
        "\n",
        "### Step2:-\n",
        "Accept positions of the frog that you want to move.<br>\n",
        "Example: If we enter position 2 then the game will look like this:-\n",
        "```\n",
        "[ 0 ,  1 ,  2 ,  3 ,  4 ,  5 ,  6 ]\n",
        "['G', 'G', '-', 'G', 'B', 'B', 'B']\n",
        "```\n",
        "\n",
        "### Step3:- ###\n",
        "Define Invalid moves and add conditional 'if' statements accordingly\n",
        "#### Rules\n",
        "1. Entered position should be between 0 to 6. Or a character 'q' to quit the game.\n",
        "2. Entered position cannot be the position of empty leaf.\n",
        "3. If the selected frog position cannot perform the contraints given in rule 2 then the move is invalid.\n",
        "\n",
        "### Step4:-\n",
        "Make the appropriate move by changing the game display."
      ],
      "metadata": {
        "id": "fxZte1ZuP3yr"
      }
    },
    {
      "cell_type": "markdown",
      "source": [
        "## Step 1\n",
        "First create a list `positions` which contains the characters 'G','B' and '-' in the same sequence as given in the initial display state."
      ],
      "metadata": {
        "id": "-viYJbAFQXcJ"
      }
    },
    {
      "cell_type": "code",
      "execution_count": null,
      "metadata": {
        "id": "fSvLBrjwP0sr"
      },
      "outputs": [],
      "source": [
        "### My Code\n",
        "\n",
        "Positions = ['G', 'G', 'G', '-', 'B', 'B', 'B']"
      ]
    },
    {
      "cell_type": "markdown",
      "source": [
        "Now print this string ```[ 0 ,  1 ,  2 ,  3 ,  4 ,  5 ,  6 ]``` and after that print the list `positions`"
      ],
      "metadata": {
        "id": "unr1AJLSQj_4"
      }
    },
    {
      "cell_type": "code",
      "source": [
        "### My Code\n",
        "\n",
        "print(\"#### Always Enter A From 0 to 6 ####\")\n",
        "\n",
        "ReferenceIndex = \"[ 0 ,  1 ,  2 ,  3 ,  4 ,  5 ,  6 ]\"\n",
        "\n",
        "print(ReferenceIndex, Positions, sep='\\n')"
      ],
      "metadata": {
        "id": "qqKLcfEmQgiZ",
        "colab": {
          "base_uri": "https://localhost:8080/"
        },
        "outputId": "7089b8b0-2e64-4118-a64b-f197967a1066"
      },
      "execution_count": null,
      "outputs": [
        {
          "output_type": "stream",
          "name": "stdout",
          "text": [
            "#### Always Enter A From 0 to 6 ####\n",
            "[ 0 ,  1 ,  2 ,  3 ,  4 ,  5 ,  6 ]\n",
            "['G', 'G', 'G', '-', 'B', 'B', 'B']\n"
          ]
        }
      ]
    },
    {
      "cell_type": "markdown",
      "source": [
        "Take position input from user and write a message as `\"Press q to quit else \\nEnter position of piece:\"`."
      ],
      "metadata": {
        "id": "DuEVsgtjQqXV"
      }
    },
    {
      "cell_type": "code",
      "source": [
        "### My Code\n",
        "\n",
        "# Input position\n",
        "\n",
        "Pos = input(\"Press 'Q' to Quit. \\nEnter Position Of Piece: \")"
      ],
      "metadata": {
        "id": "nPz65EKXQnDR",
        "colab": {
          "base_uri": "https://localhost:8080/"
        },
        "outputId": "f5c14acf-aae3-4d52-9194-7fee17246042"
      },
      "execution_count": null,
      "outputs": [
        {
          "name": "stdout",
          "output_type": "stream",
          "text": [
            "Press 'Q' to Quit. \n",
            "Enter Position Of Piece: q\n"
          ]
        }
      ]
    },
    {
      "cell_type": "markdown",
      "source": [
        "Now the taken input is in string format. So first check if the input is `'q'` character. If input is `'q'` then the person is quiting the game so print `'You Lose'`."
      ],
      "metadata": {
        "id": "ejy_x_eTRJmT"
      }
    },
    {
      "cell_type": "code",
      "source": [
        "### My Code\n",
        "\n",
        "if Pos in ['Q', 'q']:\n",
        "    print(\"Quit. You Lose.\")"
      ],
      "metadata": {
        "id": "1OrsC7P9QxO6",
        "outputId": "76776d10-6bf9-4386-9f43-61fab1adfb94",
        "colab": {
          "base_uri": "https://localhost:8080/"
        }
      },
      "execution_count": null,
      "outputs": [
        {
          "output_type": "stream",
          "name": "stdout",
          "text": [
            "Quit. You Lose.\n"
          ]
        }
      ]
    },
    {
      "cell_type": "markdown",
      "source": [
        "Next if input character is not `'q'` then it has to be some integer. so convert input to integer format."
      ],
      "metadata": {
        "id": "yZJeDTGlRSMe"
      }
    },
    {
      "cell_type": "code",
      "source": [
        "### My Code\n",
        "\n",
        "# Not integer\n",
        "if not Pos.isnumeric():\n",
        "    print(\"Invalid Move. Not a Integer\")\n",
        "else:\n",
        "    Pos = int(Pos)"
      ],
      "metadata": {
        "id": "PWZj_Js6RP2G",
        "colab": {
          "base_uri": "https://localhost:8080/"
        },
        "outputId": "e28da3bc-83d9-4c58-f27c-5d85a0f6aea6"
      },
      "execution_count": null,
      "outputs": [
        {
          "output_type": "stream",
          "name": "stdout",
          "text": [
            "Invalid Move. Not a Integer\n"
          ]
        }
      ]
    },
    {
      "cell_type": "markdown",
      "source": [
        "## Step 2\n",
        "Now we have to check validity of the selected positions or move.<br>\n",
        "If the entered number isn't between 0 and 6, then print 'Invalid move'."
      ],
      "metadata": {
        "id": "SyCzN-cYRXZa"
      }
    },
    {
      "cell_type": "code",
      "source": [
        "### My Code\n",
        "\n",
        "# Position range 0 to 6\n",
        "\n",
        "if Pos < 0 or Pos > 6:\n",
        "    print(\"Invalid Move. Out of range.\")"
      ],
      "metadata": {
        "id": "8_edLqe2RU8S"
      },
      "execution_count": null,
      "outputs": []
    },
    {
      "cell_type": "markdown",
      "source": [
        "A frog should be present on the selected position to make a move. If leaf is selected then it doesn't make sense. Therefore, if entered postition is same as the postition of empty leaf then the move is invalid and print `Invalid Move`"
      ],
      "metadata": {
        "id": "Va03g0l5Rlkx"
      }
    },
    {
      "cell_type": "code",
      "source": [
        "### My Code\n",
        "\n",
        "# Frog on selected position, not leaf\n",
        "\n",
        "if Positions[Pos] == '-':\n",
        "    print(\"Invalid Move. Selection: Leaf\")\n"
      ],
      "metadata": {
        "id": "uM2-D1xGRiH4"
      },
      "execution_count": null,
      "outputs": []
    },
    {
      "cell_type": "markdown",
      "source": [
        "Initialize a variable named `pos2` at value 0, to store the index of empty leaf, so that we can use it later."
      ],
      "metadata": {
        "id": "cp5q2ahQTnwI"
      }
    },
    {
      "cell_type": "code",
      "source": [
        "### My Code\n",
        "\n",
        "# Variable to store index of leaf\n",
        "Pos2 = 0"
      ],
      "metadata": {
        "id": "1SkBYDnaTpiV"
      },
      "execution_count": null,
      "outputs": []
    },
    {
      "cell_type": "markdown",
      "source": [
        "```   \n",
        "    Check if the selected frog is 'G':\n",
        "  \n",
        "        (Inside if when it's 'G'. As 'G' is selected frog can move to right only.)\n",
        "        \n",
        "        ❗condition 1\n",
        "\n",
        "        If **selected_position + 1** is less than or equal to 6 and **curent_position + 1** contains '-'\n",
        "        then it's a valid move and store that postion in `pos2`.\n",
        "        \n",
        "        ❗condition2\n",
        "\n",
        "        Else if **selected_position + 2** is less than or equal to 6 and if **current_position + 2**\n",
        "        contains '-' and if **selected_position + 1** contains 'B' then it's a valid move  and store that postion in `pos2`.\n",
        "        \n",
        "        ❗condition3:\n",
        "\n",
        "        Else remainig all are invalid, so print `Invalid Move`\n",
        "      \n",
        "```"
      ],
      "metadata": {
        "id": "V9UFD623R3Oa"
      }
    },
    {
      "cell_type": "code",
      "source": [
        "### My Code\n",
        "\n",
        "# Green Frog\n",
        "\n",
        "# Frog can move only right\n",
        "if Positions[Pos] == 'G':\n",
        "\n",
        "    # Condition 1\n",
        "    if Pos + 1 <= 6 and Positions[Pos + 1] == '-':\n",
        "        Pos2 = Pos\n",
        "\n",
        "    # Condition 2\n",
        "    elif (Pos + 2) <= 6 and (Positions[Pos + 2] == '-' and Positions[Pos + 1] == 'B'):\n",
        "        Pos2 = Pos\n",
        "\n",
        "    # Condition 3\n",
        "    else:\n",
        "        print(\"Invalid Move.\")"
      ],
      "metadata": {
        "id": "IDHxpibURriq"
      },
      "execution_count": null,
      "outputs": []
    },
    {
      "cell_type": "markdown",
      "source": [
        "```\n",
        "    Check if the selected frog is 'B':\n",
        "    \n",
        "        (Inside if when it's 'B'. As 'B' is selected frog can move to left only.)\n",
        "        \n",
        "        ❗condition1:\n",
        "\n",
        "        If **selected_position - 1** is more than or equal to 0 and **curent_position - 1** contains '-' then\n",
        "        it's a valid move and and store that postion in `pos2`.\n",
        "        \n",
        "        ❗condition2:\n",
        "\n",
        "        Else if **selected_position - 2** is more than or equal to 0 and if **current_position - 2** contains '-'\n",
        "        and if **selected_position - 1** contains 'G' then it's a valid move and and store that postion in `pos2`.\n",
        "\n",
        "        ❗condition3:\n",
        "        \n",
        "        Else remainig all are invalid,, so print `Invalid Move`.\n",
        "        \n",
        "```"
      ],
      "metadata": {
        "id": "DyQX5nUsTZPF"
      }
    },
    {
      "cell_type": "code",
      "source": [
        "### My Code\n",
        "\n",
        "# Brown Frog\n",
        "\n",
        "# Frog can move only left\n",
        "\n",
        "if Positions[Pos] == 'B':\n",
        "    # Condition 1\n",
        "    if (Pos - 1) >= 0 and Positions[Pos - 1] == '-':\n",
        "        Pos2 = Pos\n",
        "\n",
        "    # Condition 2\n",
        "    elif (Pos - 2) >= 0 and Positions[Pos - 2] == '-' and Positions[Pos - 1] == 'G':\n",
        "        Pos2 = Pos\n",
        "\n",
        "    # Condition 3\n",
        "    else:\n",
        "        print(\"Invalid Move.\")"
      ],
      "metadata": {
        "id": "cQ2G3ZO_TWU5"
      },
      "execution_count": null,
      "outputs": []
    },
    {
      "cell_type": "markdown",
      "source": [
        "Swap the element at selected positions and calculated position2 in the list.<br> So basically we are moving the frog to next valid position by swapping elelments of array."
      ],
      "metadata": {
        "id": "Vads2oztUd4g"
      }
    },
    {
      "cell_type": "code",
      "source": [
        "### My Code\n",
        "\n",
        "# Swap Places\n",
        "\n",
        "Positions[Pos], Positions[Pos + 1] = Positions[Pos + 1], Positions[Pos]"
      ],
      "metadata": {
        "id": "jXOGtww7UeYQ"
      },
      "execution_count": null,
      "outputs": []
    },
    {
      "cell_type": "markdown",
      "source": [
        "Now print the display of the game again to see the change.<br>\n",
        "If we enter position 2 then the output will look like this:-\n",
        "```\n",
        "[ 0 ,  1 ,  2 ,  3 ,  4 ,  5 ,  6 ]\n",
        "['G', 'G', '-', 'G', 'B', 'B', 'B']\n",
        "```"
      ],
      "metadata": {
        "id": "8qF4Q2HsUlZ4"
      }
    },
    {
      "cell_type": "code",
      "source": [
        "### My Code\n",
        "\n",
        "print(ReferenceIndex, Positions, sep='\\n')"
      ],
      "metadata": {
        "id": "0S3oNzG3UifK"
      },
      "execution_count": null,
      "outputs": []
    },
    {
      "cell_type": "markdown",
      "source": [
        "Check for winning condition by comparing the elements of list. If player has won the game print `'You Win'`"
      ],
      "metadata": {
        "id": "EILVGu48UsH-"
      }
    },
    {
      "cell_type": "code",
      "source": [
        "### My Code\n",
        "\n",
        "# Wining Condition\n",
        "\n",
        "if Positions == ['B', 'B', 'B', '-', 'G', 'G', 'G']:\n",
        "    print(\"You Win!\")"
      ],
      "metadata": {
        "id": "GYkZdiA6Uote"
      },
      "execution_count": null,
      "outputs": []
    },
    {
      "cell_type": "markdown",
      "source": [
        "Now the game should keep running until the player quits, so place all conditional statements inside an infinite loop.<br>\n",
        "\n",
        "1. We have to `'break'` the loop if the player presses `'q'` and quits.\n",
        "\n",
        "2. If the move made by player is `'Invalid Move'` then we have to `'continue'` without executing remaining part of the selected iteration.\n",
        "\n",
        "3. If player wins the game we have to `break` the loop.\n",
        "\n",
        "\n",
        "```\n",
        "Infinite loop:\n",
        "    (inside loop)\n",
        "    1.Take input\n",
        "    2.Check all valid and invalid conditions of `pos`.\n",
        "    3.Make the appropriate move by calculating `pos2`.\n",
        "    4.Display game\n",
        "    4.Check winning condition\n",
        "```"
      ],
      "metadata": {
        "id": "a2a0HHjiUyQ8"
      }
    },
    {
      "cell_type": "code",
      "source": [
        "### Complete Code\n",
        "\n",
        "# Code Inside Infinite Loop w break statements\n",
        "while (True):\n",
        "\n",
        "    print(\"#### Always Enter A From 0 to 6 ####\")\n",
        "\n",
        "    ReferenceIndex = \"[ 0 ,  1 ,  2 ,  3 ,  4 ,  5 ,  6 ]\"\n",
        "    Positions = ['G', 'G', 'G', '-', 'B', 'B', 'B']\n",
        "\n",
        "    print(ReferenceIndex, Positions, sep='\\n')\n",
        "\n",
        "    # Input position\n",
        "\n",
        "    Pos = input(\"Press 'Q' to Quit. \\nEnter Position Of Piece: \")\n",
        "\n",
        "    # Quit sequence\n",
        "\n",
        "    if Pos in ['Q', 'q']:\n",
        "        print(\"You Quit. You Lose.\")\n",
        "        break\n",
        "\n",
        "    # Not integer\n",
        "    if not Pos.isnumeric():\n",
        "        print(\"Invalid Move. Not a Integer\")\n",
        "        continue\n",
        "    else:\n",
        "        Pos = int(Pos)\n",
        "\n",
        "    # Position range 0 to 6\n",
        "\n",
        "    if Pos < 0 or Pos > 6:\n",
        "        print(\"Invalid Move. Out of range.\")\n",
        "        continue\n",
        "\n",
        "    # Frog on selected position, not leaf\n",
        "\n",
        "    if Positions[Pos] == '-':\n",
        "        print(\"Invalid Move. Selection: Leaf\")\n",
        "        continue\n",
        "\n",
        "    # Variable to store index of leaf\n",
        "    Pos2 = 0\n",
        "\n",
        "    # Green Frog\n",
        "    # Frog can move only right\n",
        "    if Positions[Pos] == 'G':\n",
        "\n",
        "        # Condition 1\n",
        "        if Pos + 1 <= 6 and Positions[Pos + 1] == '-':\n",
        "            Pos2 = Pos\n",
        "\n",
        "        # Condition 2\n",
        "        elif (Pos + 2) <= 6 and (Positions[Pos + 2] == '-' and Positions[Pos + 1] == 'B'):\n",
        "            Pos2 = Pos\n",
        "\n",
        "        # Condition 3\n",
        "        else:\n",
        "            print(\"Invalid Move.\")\n",
        "            continue\n",
        "\n",
        "    # Brown Frog\n",
        "    # Frog can move only left\n",
        "\n",
        "    if Positions[Pos] == 'B':\n",
        "        # Condition 1\n",
        "        if (Pos - 1) >= 0 and Positions[Pos - 1] == '-':\n",
        "            Pos2 = Pos\n",
        "\n",
        "        # Condition 2\n",
        "        elif (Pos - 2) >= 0 and Positions[Pos - 2] == '-' and Positions[Pos - 1] == 'G':\n",
        "            Pos2 = Pos\n",
        "\n",
        "        # Condition 3\n",
        "        else:\n",
        "            print(\"Invalid Move.\")\n",
        "            continue\n",
        "\n",
        "        # Swap Places\n",
        "\n",
        "    Positions[Pos], Positions[Pos + 1] = Positions[Pos + 1], Positions[Pos]\n",
        "\n",
        "    print(ReferenceIndex, Positions, sep='\\n')\n",
        "\n",
        "    # Wining Condition\n",
        "\n",
        "    if Positions == ['B', 'B', 'B', '-', 'G', 'G', 'G']:\n",
        "        print(\"You Win!\")\n",
        "        break"
      ],
      "metadata": {
        "id": "BjpQuMCeUvrU"
      },
      "execution_count": null,
      "outputs": []
    }
  ]
}
