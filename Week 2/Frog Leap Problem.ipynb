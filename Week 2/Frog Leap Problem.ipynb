{
 "cells": [
  {
   "cell_type": "code",
   "execution_count": null,
   "metadata": {},
   "outputs": [],
   "source": [
    "### Colab Link: https://colab.research.google.com/drive/1A203I22DoVcbIeFZ01E__fQ_9pIilfIE?usp=sharing",
    "\n",
    "print(\"#### Always Enter A From 0 to 6 ####\")\n",
    "\n",
    "ReferenceIndex = \"[ 0 ,  1 ,  2 ,  3 ,  4 ,  5 ,  6 ]\"\n",
    "Positions = ['G', 'G', 'G', '-', 'B', 'B', 'B']\n",
    "\n",
    "print(ReferenceIndex, Positions, sep='\\n')"
   ]
  },
  {
   "cell_type": "code",
   "execution_count": null,
   "metadata": {},
   "outputs": [],
   "source": [
    "# Input position\n",
    "\n",
    "Pos = input(\"Press 'Q' to Quit. \\nEnter Position Of Piece: \")"
   ]
  },
  {
   "cell_type": "code",
   "execution_count": null,
   "metadata": {},
   "outputs": [],
   "source": [
    "# Quit sequence\n",
    "\n",
    "if Pos in ['Q', 'q']:\n",
    "    print(\"Quit. You Lose.\")\n",
    "\n",
    "# Not integer\n",
    "if not Pos.isnumeric():\n",
    "    print(\"Invalid Move. Not a Integer\")\n",
    "else:\n",
    "    Pos = int(Pos)"
   ]
  },
  {
   "cell_type": "code",
   "execution_count": null,
   "metadata": {},
   "outputs": [],
   "source": [
    "# Position range 0 to 6\n",
    "\n",
    "if Pos < 0 or Pos > 6:\n",
    "    print(\"Invalid Move. Out of range.\")\n",
    "\n",
    "# Frog on selected position, not leaf\n",
    "    \n",
    "if Positions[Pos] == '-':\n",
    "    print(\"Invalid Move. Selection: Leaf\")"
   ]
  },
  {
   "cell_type": "code",
   "execution_count": null,
   "metadata": {},
   "outputs": [],
   "source": [
    "# Variable to store index of leaf\n",
    "Pos2 = 0"
   ]
  },
  {
   "cell_type": "code",
   "execution_count": null,
   "metadata": {},
   "outputs": [],
   "source": [
    "# Green Frog\n",
    "\n",
    "# Frog can move only right\n",
    "if Positions[Pos] == 'G':\n",
    "\n",
    "    # Condition 1\n",
    "    if Pos + 1 <= 6 and Positions[Pos + 1] == '-':\n",
    "        Pos2 = Pos\n",
    "    \n",
    "    # Condition 2\n",
    "    elif (Pos + 2) <= 6 and (Positions[Pos + 2] == '-' and Positions[Pos + 1] == 'B'):\n",
    "        Pos2 = Pos\n",
    "    \n",
    "    # Condition 3\n",
    "    else:\n",
    "        print(\"Invalid Move.\")"
   ]
  },
  {
   "cell_type": "code",
   "execution_count": null,
   "metadata": {},
   "outputs": [],
   "source": [
    "# Brown Frog\n",
    "\n",
    "# Frog can move only left\n",
    "\n",
    "if Positions[Pos] == 'B':\n",
    "    # Condition 1\n",
    "    if (Pos - 1) >= 0 and Positions[Pos - 1] == '-':\n",
    "        Pos2 = Pos\n",
    "\n",
    "    # Condition 2\n",
    "    elif (Pos - 2) >= 0 and Positions[Pos - 2] == '-' and Positions[Pos - 1] == 'G':\n",
    "        Pos2 = Pos\n",
    "\n",
    "    # Condition 3\n",
    "    else:\n",
    "        print(\"Invalid Move.\")"
   ]
  },
  {
   "cell_type": "code",
   "execution_count": null,
   "metadata": {},
   "outputs": [],
   "source": [
    "# Swap Places\n",
    "\n",
    "Positions[Pos], Positions[Pos + 1] = Positions[Pos + 1], Positions[Pos]\n",
    "\n",
    "print(ReferenceIndex, Positions, sep='\\n')"
   ]
  },
  {
   "cell_type": "code",
   "execution_count": null,
   "metadata": {},
   "outputs": [],
   "source": [
    "# Wining Condition\n",
    "\n",
    "if Positions == ['B', 'B', 'B', '-', 'G', 'G', 'G']:\n",
    "    print(\"You Win!\")"
   ]
  },
  {
   "cell_type": "code",
   "execution_count": null,
   "metadata": {},
   "outputs": [],
   "source": [
    "# COMPLETE CODE\n",
    "\n",
    "# Code Inside Infinite Loop\n",
    "while (True):\n",
    "\n",
    "    print(\"#### Always Enter A From 0 to 6 ####\")\n",
    "\n",
    "    ReferenceIndex = \"[ 0 ,  1 ,  2 ,  3 ,  4 ,  5 ,  6 ]\"\n",
    "    Positions = ['G', 'G', 'G', '-', 'B', 'B', 'B']\n",
    "\n",
    "    print(ReferenceIndex, Positions, sep='\\n')\n",
    "\n",
    "    # Input position\n",
    "\n",
    "    Pos = input(\"Press 'Q' to Quit. \\nEnter Position Of Piece: \")\n",
    "    \n",
    "    # Quit sequence\n",
    "\n",
    "    if Pos in ['Q', 'q']:\n",
    "        print(\"You Quit. You Lose.\")\n",
    "        break\n",
    "\n",
    "    # Not integer\n",
    "    if not Pos.isnumeric():\n",
    "        print(\"Invalid Move. Not a Integer\")\n",
    "        break\n",
    "    else:\n",
    "        Pos = int(Pos)\n",
    "    \n",
    "    # Position range 0 to 6\n",
    "\n",
    "    if Pos < 0 or Pos > 6:\n",
    "        print(\"Invalid Move. Out of range.\")\n",
    "        break\n",
    "\n",
    "    # Frog on selected position, not leaf\n",
    "        \n",
    "    if Positions[Pos] == '-':\n",
    "        print(\"Invalid Move. Selection: Leaf\")\n",
    "        break\n",
    "\n",
    "    # Variable to store index of leaf\n",
    "    Pos2 = 0\n",
    "\n",
    "    # Green Frog\n",
    "    # Frog can move only right\n",
    "    if Positions[Pos] == 'G':\n",
    "\n",
    "        # Condition 1\n",
    "        if Pos + 1 <= 6 and Positions[Pos + 1] == '-':\n",
    "            Pos2 = Pos\n",
    "        \n",
    "        # Condition 2\n",
    "        elif (Pos + 2) <= 6 and (Positions[Pos + 2] == '-' and Positions[Pos + 1] == 'B'):\n",
    "            Pos2 = Pos\n",
    "        \n",
    "        # Condition 3\n",
    "        else:\n",
    "            print(\"Invalid Move.\")\n",
    "            break\n",
    "    \n",
    "    # Brown Frog\n",
    "    # Frog can move only left\n",
    "\n",
    "    if Positions[Pos] == 'B':\n",
    "        # Condition 1\n",
    "        if (Pos - 1) >= 0 and Positions[Pos - 1] == '-':\n",
    "            Pos2 = Pos\n",
    "\n",
    "        # Condition 2\n",
    "        elif (Pos - 2) >= 0 and Positions[Pos - 2] == '-' and Positions[Pos - 1] == 'G':\n",
    "            Pos2 = Pos\n",
    "\n",
    "        # Condition 3\n",
    "        else:\n",
    "            print(\"Invalid Move.\")\n",
    "            break\n",
    "        \n",
    "        # Swap Places\n",
    "\n",
    "    Positions[Pos], Positions[Pos + 1] = Positions[Pos + 1], Positions[Pos]\n",
    "\n",
    "    print(ReferenceIndex, Positions, sep='\\n')\n",
    "\n",
    "    # Wining Condition\n",
    "\n",
    "    if Positions == ['B', 'B', 'B', '-', 'G', 'G', 'G']:\n",
    "        print(\"You Win!\")\n",
    "        break"
   ]
  }
 ],
 "metadata": {
  "kernelspec": {
   "display_name": "Python 3",
   "language": "python",
   "name": "python3"
  },
  "language_info": {
   "codemirror_mode": {
    "name": "ipython",
    "version": 3
   },
   "file_extension": ".py",
   "mimetype": "text/x-python",
   "name": "python",
   "nbconvert_exporter": "python",
   "pygments_lexer": "ipython3",
   "version": "3.12.0"
  }
 },
 "nbformat": 4,
 "nbformat_minor": 2
}
